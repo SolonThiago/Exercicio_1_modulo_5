{
 "cells": [
  {
   "cell_type": "markdown",
   "metadata": {},
   "source": [
    "# Módulo 5 Tarefa 1\n",
    "## Base de nascidos vivos do DataSUS\n",
    "O DataSUS disponibiliza diversos arquivos de dados com relação a seus segurados, conforme a [lei da transparência de informações públicas](https://www.sisgov.com/transparencia-acesso-informacao/#:~:text=A%20Lei%20da%20Transpar%C3%AAncia%20(LC,em%20um%20site%20na%20internet.). \n",
    "\n",
    "Essas informações podem ser obtidas pela internet [aqui](http://www2.datasus.gov.br/DATASUS/index.php?area=0901&item=1). Como o processo de obtenção desses arquivos foge um pouco do nosso escopo, deixamos o arquivo SINASC_RO_2019.csv` já como vai ser encontrado no DataSUS. O dicionário de dados está no arquivo `estrutura_sinasc_para_CD.pdf` (o nome do arquivo tal qual no portal do DataSUS).\n",
    "\n",
    "### Nosso objetivo\n",
    "Queremos deixar uma base organizada para podermos estudar a relação entre partos com risco para o bebê e algumas condições como tempo de parto, consultas de pré-natal etc.\n",
    "\n",
    "#### Preparação da base\n",
    "1. Carregue a base 'SINASC_RO_2019.csv'. Conte o número de registros e o número de registros não duplicados da base. Dica: você aprendeu um método que remove duplicados, encadeie este método com um outro método que conta o número de linhas. **Há linhas duplicadas?**  \n",
    "\n",
    "2. Conte o número de valores *missing* por variável.  \n",
    "\n",
    "3. Ok, no item anterior você deve ter achado pouco prático ler a informação de tantas variáveis, muitas delas nem devem ser interesantes. Então crie uma seleção dessa base somente com as colunas que interessam. São elas:\n",
    "` \n",
    "['LOCNASC', 'IDADEMAE', 'ESTCIVMAE', 'ESCMAE', 'QTDFILVIVO', \n",
    "    'GESTACAO', 'GRAVIDEZ', 'CONSULTAS', 'APGAR5'] \n",
    "`\n",
    "Refaça a contagem de valores *missings*.  \n",
    "\n",
    "4. Apgar é uma *nota* que o pediatra dá ao bebê quando nasce de acordo com algumas características associadas principalmente à respiração. Apgar 1 e Apgar 5 são as notas 1 e 5 minutos do nascimento. Apgar5 será a nossa variável de interesse principal. Então remova todos os registros com Apgar5 não preenchido. Para esta seleção, conte novamente o número de linhas e o número de *missings*.  \n",
    "\n",
    "5. observe que as variáveis `['ESTCIVMAE', 'CONSULTAS']` possuem o código `9`, que significa *ignorado*. Vamos assumir que o não preenchido é o mesmo que o código `9`.<br>\n",
    "6. Substitua os valores faltantes da quantitativa (`QTDFILVIVO`) por zero.  \n",
    "7. Das restantes, decida que valore te parece mais adequado (um 'não preenchido' ou um valor 'mais provável' como no item anterior) e preencha. Justifique. Lembre-se de que tratamento de dados é trabalho do cientista, e que estamos tomando decisões a todo o momento - não há necessariamente certo e errado aqui.  \n",
    "8. O Apgar possui uma classificação indicando se o bebê passou por asfixia:\n",
    "- Entre 8 e 10 está em uma faixa 'normal'. \n",
    "- Entre 6 e 7, significa que o recém-nascido passou por 'asfixia leve'. \n",
    "- Entre 4 e 5 significa 'asfixia moderada'.\n",
    "- Entre 0 e 3 significa 'asfixia severa'.  \n",
    "\n",
    "Crie uma categorização dessa variável com essa codificação e calcule as frequências dessa categorização.  \n",
    "<br>\n",
    "9. Renomeie as variáveis para que fiquem no *snake case*, ou seja, em letras minúsculas, com um *underscore* entre as palávras. Dica: repare que se você não quiser criar um *dataframe* novo, você vai precisar usar a opção `inplace = True`."
   ]
  },
  {
   "cell_type": "code",
   "execution_count": 68,
   "metadata": {},
   "outputs": [
    {
     "name": "stdout",
     "output_type": "stream",
     "text": [
      "(27028, 69)\n"
     ]
    },
    {
     "data": {
      "text/plain": [
       "(27028, 69)"
      ]
     },
     "execution_count": 68,
     "metadata": {},
     "output_type": "execute_result"
    }
   ],
   "source": [
    "import pandas as pd\n",
    "import requests\n",
    "\n",
    "# 1) seu código aqui\n",
    "sinasc = pd.read_csv('SINASC_RO_2019.csv')\n",
    "print(sinasc.shape)\n",
    "sinasc.drop_duplicates().shape\n",
    "# Não há duplicados"
   ]
  },
  {
   "cell_type": "code",
   "execution_count": 69,
   "metadata": {},
   "outputs": [
    {
     "data": {
      "text/plain": [
       "ORIGEM          0\n",
       "CODESTAB      115\n",
       "CODMUNNASC      0\n",
       "LOCNASC         0\n",
       "IDADEMAE        0\n",
       "             ... \n",
       "munResUf        0\n",
       "munResLat       1\n",
       "munResLon       1\n",
       "munResAlt       1\n",
       "munResArea      1\n",
       "Length: 69, dtype: int64"
      ]
     },
     "execution_count": 69,
     "metadata": {},
     "output_type": "execute_result"
    }
   ],
   "source": [
    "# 2) seu código aqui\n",
    "df = sinasc\n",
    "df.isna().sum() # verificando quantidade de dados faltantes"
   ]
  },
  {
   "cell_type": "code",
   "execution_count": 70,
   "metadata": {},
   "outputs": [
    {
     "data": {
      "text/plain": [
       "Index(['CODESTAB', 'ESTCIVMAE', 'ESCMAE', 'CODOCUPMAE', 'QTDFILVIVO',\n",
       "       'QTDFILMORT', 'GESTACAO', 'GRAVIDEZ', 'PARTO', 'HORANASC', 'SEXO',\n",
       "       'APGAR1', 'APGAR5', 'RACACOR', 'IDANOMAL', 'CODANOMAL', 'DTRECORIGA',\n",
       "       'NATURALMAE', 'CODMUNNATU', 'CODUFNATU', 'ESCMAE2010', 'SERIESCMAE',\n",
       "       'DTNASCMAE', 'RACACORMAE', 'QTDGESTANT', 'QTDPARTNOR', 'QTDPARTCES',\n",
       "       'IDADEPAI', 'DTULTMENST', 'SEMAGESTAC', 'TPMETESTIM', 'CONSPRENAT',\n",
       "       'MESPRENAT', 'TPAPRESENT', 'STTRABPART', 'STCESPARTO', 'TPNASCASSI',\n",
       "       'TPFUNCRESP', 'TPDOCRESP', 'DTDECLARAC', 'ESCMAEAGR1', 'munResLat',\n",
       "       'munResLon', 'munResAlt', 'munResArea'],\n",
       "      dtype='object')"
      ]
     },
     "execution_count": 70,
     "metadata": {},
     "output_type": "execute_result"
    }
   ],
   "source": [
    "colunas_com_soma_maior_que_0 = df.loc[:, df.isna().sum() > 0] # filtrando apenas as colunas que possuem dados faltantes\n",
    "colunas_com_soma_maior_que_0.columns # mostrando as colunas com dados faltantes"
   ]
  },
  {
   "cell_type": "code",
   "execution_count": 71,
   "metadata": {},
   "outputs": [
    {
     "data": {
      "text/plain": [
       "munResArea        1\n",
       "munResLon         1\n",
       "munResLat         1\n",
       "munResAlt         1\n",
       "SEXO              4\n",
       "TPDOCRESP        14\n",
       "HORANASC         21\n",
       "DTNASCMAE        40\n",
       "PARTO            49\n",
       "DTDECLARAC       52\n",
       "TPNASCASSI       61\n",
       "TPFUNCRESP       67\n",
       "GRAVIDEZ         79\n",
       "APGAR1           96\n",
       "APGAR5          103\n",
       "CODESTAB        115\n",
       "ESCMAE2010      249\n",
       "ESCMAEAGR1      249\n",
       "TPAPRESENT      265\n",
       "NATURALMAE      298\n",
       "CODMUNNATU      298\n",
       "CODUFNATU       298\n",
       "ESCMAE          312\n",
       "ESTCIVMAE       317\n",
       "IDANOMAL        591\n",
       "RACACOR         647\n",
       "RACACORMAE      661\n",
       "STCESPARTO      747\n",
       "CONSPRENAT      930\n",
       "STTRABPART      947\n",
       "QTDGESTANT     1212\n",
       "GESTACAO       1232\n",
       "SEMAGESTAC     1238\n",
       "TPMETESTIM     1238\n",
       "QTDFILVIVO     1573\n",
       "QTDPARTCES     1791\n",
       "QTDPARTNOR     1879\n",
       "QTDFILMORT     2098\n",
       "MESPRENAT      2867\n",
       "CODOCUPMAE     2907\n",
       "DTULTMENST    10072\n",
       "SERIESCMAE    12710\n",
       "IDADEPAI      19421\n",
       "CODANOMAL     26814\n",
       "DTRECORIGA    27028\n",
       "dtype: int64"
      ]
     },
     "execution_count": 71,
     "metadata": {},
     "output_type": "execute_result"
    }
   ],
   "source": [
    "colunas_com_soma_maior_que_0.isna().sum().sort_values() # mostrando apenas as colunas que possuem dados faltantes e a quantidade de dados faltantes"
   ]
  },
  {
   "cell_type": "code",
   "execution_count": 72,
   "metadata": {},
   "outputs": [
    {
     "data": {
      "text/plain": [
       "DTRECORIGA    100.000000\n",
       "CODANOMAL      99.208229\n",
       "IDADEPAI       71.855113\n",
       "SERIESCMAE     47.025307\n",
       "DTULTMENST     37.265058\n",
       "CODOCUPMAE     10.755513\n",
       "MESPRENAT      10.607518\n",
       "QTDFILMORT      7.762321\n",
       "QTDPARTNOR      6.952050\n",
       "QTDPARTCES      6.626461\n",
       "QTDFILVIVO      5.819890\n",
       "SEMAGESTAC      4.580435\n",
       "TPMETESTIM      4.580435\n",
       "GESTACAO        4.558236\n",
       "QTDGESTANT      4.484239\n",
       "STTRABPART      3.503774\n",
       "CONSPRENAT      3.440876\n",
       "STCESPARTO      2.763801\n",
       "RACACORMAE      2.445612\n",
       "RACACOR         2.393814\n",
       "IDANOMAL        2.186621\n",
       "ESTCIVMAE       1.172858\n",
       "ESCMAE          1.154358\n",
       "CODUFNATU       1.102560\n",
       "NATURALMAE      1.102560\n",
       "CODMUNNATU      1.102560\n",
       "TPAPRESENT      0.980465\n",
       "ESCMAE2010      0.921267\n",
       "ESCMAEAGR1      0.921267\n",
       "CODESTAB        0.425485\n",
       "APGAR5          0.381086\n",
       "APGAR1          0.355187\n",
       "GRAVIDEZ        0.292289\n",
       "TPFUNCRESP      0.247891\n",
       "TPNASCASSI      0.225692\n",
       "DTDECLARAC      0.192393\n",
       "PARTO           0.181293\n",
       "DTNASCMAE       0.147995\n",
       "HORANASC        0.077697\n",
       "TPDOCRESP       0.051798\n",
       "SEXO            0.014799\n",
       "munResLat       0.003700\n",
       "munResLon       0.003700\n",
       "munResAlt       0.003700\n",
       "munResArea      0.003700\n",
       "dtype: float64"
      ]
     },
     "execution_count": 72,
     "metadata": {},
     "output_type": "execute_result"
    }
   ],
   "source": [
    "pocentagem_colunas_soma_maior_que_0 = (colunas_com_soma_maior_que_0.isnull().sum() / len(df)) * 100 # Achando a porcentagem de dados faltantes\n",
    "pocentagem_colunas_soma_maior_que_0.sort_values(ascending=False) # Para a maioria dos dados, temos uma quantidade baixa de dados faltantes"
   ]
  },
  {
   "cell_type": "code",
   "execution_count": 73,
   "metadata": {},
   "outputs": [
    {
     "data": {
      "text/plain": [
       "DTULTMENST     37.265058\n",
       "SERIESCMAE     47.025307\n",
       "IDADEPAI       71.855113\n",
       "CODANOMAL      99.208229\n",
       "DTRECORIGA    100.000000\n",
       "dtype: float64"
      ]
     },
     "execution_count": 73,
     "metadata": {},
     "output_type": "execute_result"
    }
   ],
   "source": [
    "porcentagem_alta = pocentagem_colunas_soma_maior_que_0[pocentagem_colunas_soma_maior_que_0 > 15] # Filtrando as colunas com as maiores porcentagens de dados faltantes\n",
    "porcentagem_alta.sort_values() # Exibindo as colunas"
   ]
  },
  {
   "cell_type": "code",
   "execution_count": 74,
   "metadata": {},
   "outputs": [
    {
     "data": {
      "text/html": [
       "<div>\n",
       "<style scoped>\n",
       "    .dataframe tbody tr th:only-of-type {\n",
       "        vertical-align: middle;\n",
       "    }\n",
       "\n",
       "    .dataframe tbody tr th {\n",
       "        vertical-align: top;\n",
       "    }\n",
       "\n",
       "    .dataframe thead th {\n",
       "        text-align: right;\n",
       "    }\n",
       "</style>\n",
       "<table border=\"1\" class=\"dataframe\">\n",
       "  <thead>\n",
       "    <tr style=\"text-align: right;\">\n",
       "      <th></th>\n",
       "      <th>LOCNASC</th>\n",
       "      <th>IDADEMAE</th>\n",
       "      <th>ESTCIVMAE</th>\n",
       "      <th>ESCMAE</th>\n",
       "      <th>QTDFILVIVO</th>\n",
       "      <th>GESTACAO</th>\n",
       "      <th>GRAVIDEZ</th>\n",
       "      <th>CONSULTAS</th>\n",
       "      <th>APGAR5</th>\n",
       "    </tr>\n",
       "  </thead>\n",
       "  <tbody>\n",
       "    <tr>\n",
       "      <th>0</th>\n",
       "      <td>1</td>\n",
       "      <td>19</td>\n",
       "      <td>5.0</td>\n",
       "      <td>8 a 11 anos</td>\n",
       "      <td>0.0</td>\n",
       "      <td>37 a 41 semanas</td>\n",
       "      <td>Única</td>\n",
       "      <td>4</td>\n",
       "      <td>10.0</td>\n",
       "    </tr>\n",
       "    <tr>\n",
       "      <th>1</th>\n",
       "      <td>1</td>\n",
       "      <td>29</td>\n",
       "      <td>2.0</td>\n",
       "      <td>8 a 11 anos</td>\n",
       "      <td>1.0</td>\n",
       "      <td>37 a 41 semanas</td>\n",
       "      <td>Única</td>\n",
       "      <td>4</td>\n",
       "      <td>9.0</td>\n",
       "    </tr>\n",
       "    <tr>\n",
       "      <th>2</th>\n",
       "      <td>1</td>\n",
       "      <td>37</td>\n",
       "      <td>9.0</td>\n",
       "      <td>8 a 11 anos</td>\n",
       "      <td>2.0</td>\n",
       "      <td>37 a 41 semanas</td>\n",
       "      <td>Única</td>\n",
       "      <td>4</td>\n",
       "      <td>10.0</td>\n",
       "    </tr>\n",
       "    <tr>\n",
       "      <th>3</th>\n",
       "      <td>1</td>\n",
       "      <td>30</td>\n",
       "      <td>5.0</td>\n",
       "      <td>12 anos ou mais</td>\n",
       "      <td>0.0</td>\n",
       "      <td>37 a 41 semanas</td>\n",
       "      <td>Única</td>\n",
       "      <td>3</td>\n",
       "      <td>10.0</td>\n",
       "    </tr>\n",
       "    <tr>\n",
       "      <th>4</th>\n",
       "      <td>1</td>\n",
       "      <td>30</td>\n",
       "      <td>2.0</td>\n",
       "      <td>8 a 11 anos</td>\n",
       "      <td>1.0</td>\n",
       "      <td>37 a 41 semanas</td>\n",
       "      <td>Única</td>\n",
       "      <td>4</td>\n",
       "      <td>10.0</td>\n",
       "    </tr>\n",
       "    <tr>\n",
       "      <th>...</th>\n",
       "      <td>...</td>\n",
       "      <td>...</td>\n",
       "      <td>...</td>\n",
       "      <td>...</td>\n",
       "      <td>...</td>\n",
       "      <td>...</td>\n",
       "      <td>...</td>\n",
       "      <td>...</td>\n",
       "      <td>...</td>\n",
       "    </tr>\n",
       "    <tr>\n",
       "      <th>27023</th>\n",
       "      <td>1</td>\n",
       "      <td>32</td>\n",
       "      <td>2.0</td>\n",
       "      <td>12 anos ou mais</td>\n",
       "      <td>1.0</td>\n",
       "      <td>32 a 36 semanas</td>\n",
       "      <td>Única</td>\n",
       "      <td>4</td>\n",
       "      <td>9.0</td>\n",
       "    </tr>\n",
       "    <tr>\n",
       "      <th>27024</th>\n",
       "      <td>1</td>\n",
       "      <td>19</td>\n",
       "      <td>1.0</td>\n",
       "      <td>8 a 11 anos</td>\n",
       "      <td>0.0</td>\n",
       "      <td>37 a 41 semanas</td>\n",
       "      <td>Única</td>\n",
       "      <td>4</td>\n",
       "      <td>9.0</td>\n",
       "    </tr>\n",
       "    <tr>\n",
       "      <th>27025</th>\n",
       "      <td>1</td>\n",
       "      <td>24</td>\n",
       "      <td>2.0</td>\n",
       "      <td>8 a 11 anos</td>\n",
       "      <td>0.0</td>\n",
       "      <td>37 a 41 semanas</td>\n",
       "      <td>Única</td>\n",
       "      <td>4</td>\n",
       "      <td>10.0</td>\n",
       "    </tr>\n",
       "    <tr>\n",
       "      <th>27026</th>\n",
       "      <td>1</td>\n",
       "      <td>21</td>\n",
       "      <td>2.0</td>\n",
       "      <td>8 a 11 anos</td>\n",
       "      <td>1.0</td>\n",
       "      <td>32 a 36 semanas</td>\n",
       "      <td>Única</td>\n",
       "      <td>4</td>\n",
       "      <td>9.0</td>\n",
       "    </tr>\n",
       "    <tr>\n",
       "      <th>27027</th>\n",
       "      <td>1</td>\n",
       "      <td>18</td>\n",
       "      <td>5.0</td>\n",
       "      <td>8 a 11 anos</td>\n",
       "      <td>1.0</td>\n",
       "      <td>37 a 41 semanas</td>\n",
       "      <td>Única</td>\n",
       "      <td>4</td>\n",
       "      <td>8.0</td>\n",
       "    </tr>\n",
       "  </tbody>\n",
       "</table>\n",
       "<p>27028 rows × 9 columns</p>\n",
       "</div>"
      ],
      "text/plain": [
       "       LOCNASC  IDADEMAE  ESTCIVMAE           ESCMAE  QTDFILVIVO  \\\n",
       "0            1        19        5.0      8 a 11 anos         0.0   \n",
       "1            1        29        2.0      8 a 11 anos         1.0   \n",
       "2            1        37        9.0      8 a 11 anos         2.0   \n",
       "3            1        30        5.0  12 anos ou mais         0.0   \n",
       "4            1        30        2.0      8 a 11 anos         1.0   \n",
       "...        ...       ...        ...              ...         ...   \n",
       "27023        1        32        2.0  12 anos ou mais         1.0   \n",
       "27024        1        19        1.0      8 a 11 anos         0.0   \n",
       "27025        1        24        2.0      8 a 11 anos         0.0   \n",
       "27026        1        21        2.0      8 a 11 anos         1.0   \n",
       "27027        1        18        5.0      8 a 11 anos         1.0   \n",
       "\n",
       "              GESTACAO GRAVIDEZ  CONSULTAS  APGAR5  \n",
       "0      37 a 41 semanas    Única          4    10.0  \n",
       "1      37 a 41 semanas    Única          4     9.0  \n",
       "2      37 a 41 semanas    Única          4    10.0  \n",
       "3      37 a 41 semanas    Única          3    10.0  \n",
       "4      37 a 41 semanas    Única          4    10.0  \n",
       "...                ...      ...        ...     ...  \n",
       "27023  32 a 36 semanas    Única          4     9.0  \n",
       "27024  37 a 41 semanas    Única          4     9.0  \n",
       "27025  37 a 41 semanas    Única          4    10.0  \n",
       "27026  32 a 36 semanas    Única          4     9.0  \n",
       "27027  37 a 41 semanas    Única          4     8.0  \n",
       "\n",
       "[27028 rows x 9 columns]"
      ]
     },
     "execution_count": 74,
     "metadata": {},
     "output_type": "execute_result"
    }
   ],
   "source": [
    "# 3) seu código aqui\n",
    "dados_filtrados = df[['LOCNASC', 'IDADEMAE', 'ESTCIVMAE', 'ESCMAE', 'QTDFILVIVO',\n",
    "                  'GESTACAO', 'GRAVIDEZ', 'CONSULTAS', 'APGAR5']]\n",
    "dados_filtrados\n",
    "# trazendo algumas colunas com dados mais relevantes"
   ]
  },
  {
   "cell_type": "code",
   "execution_count": 75,
   "metadata": {},
   "outputs": [
    {
     "data": {
      "text/plain": [
       "LOCNASC          0\n",
       "IDADEMAE         0\n",
       "CONSULTAS        0\n",
       "GRAVIDEZ        79\n",
       "APGAR5         103\n",
       "ESCMAE         312\n",
       "ESTCIVMAE      317\n",
       "GESTACAO      1232\n",
       "QTDFILVIVO    1573\n",
       "dtype: int64"
      ]
     },
     "execution_count": 75,
     "metadata": {},
     "output_type": "execute_result"
    }
   ],
   "source": [
    "dados_filtrados.isna().sum().sort_values() #verificando quais colunas possuem dados faltantes"
   ]
  },
  {
   "cell_type": "code",
   "execution_count": 76,
   "metadata": {},
   "outputs": [
    {
     "data": {
      "text/plain": [
       "Index(['ESTCIVMAE', 'ESCMAE', 'QTDFILVIVO', 'GESTACAO', 'GRAVIDEZ', 'APGAR5'], dtype='object')"
      ]
     },
     "execution_count": 76,
     "metadata": {},
     "output_type": "execute_result"
    }
   ],
   "source": [
    "colunas_com_soma_maior_que_0 = dados_filtrados.loc[:, dados_filtrados.isna().sum() > 0] # trazendo as colunas com valores faltantes\n",
    "colunas_com_soma_maior_que_0.columns"
   ]
  },
  {
   "cell_type": "code",
   "execution_count": 77,
   "metadata": {},
   "outputs": [
    {
     "data": {
      "text/plain": [
       "27028"
      ]
     },
     "execution_count": 77,
     "metadata": {},
     "output_type": "execute_result"
    }
   ],
   "source": [
    "# 4) seu código aqui\n",
    "df['APGAR5'].shape[0] # contando a quantidade de linhas na coluna apgar5"
   ]
  },
  {
   "cell_type": "code",
   "execution_count": 78,
   "metadata": {},
   "outputs": [
    {
     "name": "stdout",
     "output_type": "stream",
     "text": [
      "103\n"
     ]
    }
   ],
   "source": [
    "print(df['APGAR5'].isna().sum()) # contando a quantidade de linhas missing"
   ]
  },
  {
   "cell_type": "code",
   "execution_count": 79,
   "metadata": {},
   "outputs": [
    {
     "data": {
      "text/plain": [
       "0        10.0\n",
       "1         9.0\n",
       "2        10.0\n",
       "3        10.0\n",
       "4        10.0\n",
       "         ... \n",
       "27023     9.0\n",
       "27024     9.0\n",
       "27025    10.0\n",
       "27026     9.0\n",
       "27027     8.0\n",
       "Name: APGAR5, Length: 26925, dtype: float64"
      ]
     },
     "execution_count": 79,
     "metadata": {},
     "output_type": "execute_result"
    }
   ],
   "source": [
    "apgar5_limpo = df['APGAR5'].dropna() # Removendo os dados faltantes\n",
    "apgar5_limpo"
   ]
  },
  {
   "cell_type": "code",
   "execution_count": 80,
   "metadata": {},
   "outputs": [
    {
     "data": {
      "text/plain": [
       "ESTCIVMAE\n",
       "1.0    8952\n",
       "2.0    9924\n",
       "3.0      57\n",
       "4.0     453\n",
       "5.0    7180\n",
       "9.0     145\n",
       "Name: count, dtype: int64"
      ]
     },
     "execution_count": 80,
     "metadata": {},
     "output_type": "execute_result"
    }
   ],
   "source": [
    "# 5) seu código aqui\n",
    "df['ESTCIVMAE'].value_counts().sort_index() # verificando a quantidade de dados faltantes"
   ]
  },
  {
   "cell_type": "code",
   "execution_count": 81,
   "metadata": {},
   "outputs": [
    {
     "data": {
      "text/plain": [
       "CONSULTAS\n",
       "1      986\n",
       "2     1379\n",
       "3     5988\n",
       "4    18624\n",
       "9       51\n",
       "Name: count, dtype: int64"
      ]
     },
     "execution_count": 81,
     "metadata": {},
     "output_type": "execute_result"
    }
   ],
   "source": [
    "df['CONSULTAS'].value_counts().sort_index() # verificando a quantidade de dados faltantes"
   ]
  },
  {
   "cell_type": "code",
   "execution_count": 82,
   "metadata": {},
   "outputs": [
    {
     "data": {
      "text/plain": [
       "CONSULTAS\n",
       "1      980\n",
       "2     1374\n",
       "3     5955\n",
       "4    18523\n",
       "Name: count, dtype: int64"
      ]
     },
     "execution_count": 82,
     "metadata": {},
     "output_type": "execute_result"
    }
   ],
   "source": [
    "df_sem_nove = df.loc[(df['CONSULTAS'] != 9) & (df['ESTCIVMAE'] != 9)] # Removendo os valores iguais a 9 do DataFrame\n",
    "df_sem_nove['CONSULTAS'].value_counts().sort_index()"
   ]
  },
  {
   "cell_type": "code",
   "execution_count": 83,
   "metadata": {},
   "outputs": [
    {
     "name": "stdout",
     "output_type": "stream",
     "text": [
      "1573\n"
     ]
    }
   ],
   "source": [
    "# 6) Seu código aqui\n",
    "print(df['QTDFILVIVO'].isna().sum()) # verificando a quantidade de valores faltantes"
   ]
  },
  {
   "cell_type": "code",
   "execution_count": 84,
   "metadata": {},
   "outputs": [
    {
     "data": {
      "text/plain": [
       "0        0.0\n",
       "1        1.0\n",
       "2        2.0\n",
       "3        0.0\n",
       "4        1.0\n",
       "        ... \n",
       "27023    1.0\n",
       "27024    0.0\n",
       "27025    0.0\n",
       "27026    1.0\n",
       "27027    1.0\n",
       "Name: QTDFILVIVO, Length: 27028, dtype: float64"
      ]
     },
     "execution_count": 84,
     "metadata": {},
     "output_type": "execute_result"
    }
   ],
   "source": [
    "filhos_vivos_preenchido = df['QTDFILVIVO'].fillna(0) # preenchendo os dados faltantes da coluna por 0\n",
    "filhos_vivos_preenchido"
   ]
  },
  {
   "cell_type": "code",
   "execution_count": 85,
   "metadata": {},
   "outputs": [
    {
     "data": {
      "text/plain": [
       "QTDFILVIVO\n",
       "0.0     10899\n",
       "1.0      9390\n",
       "2.0      4474\n",
       "3.0      1370\n",
       "4.0       484\n",
       "5.0       214\n",
       "6.0       112\n",
       "7.0        42\n",
       "8.0        23\n",
       "9.0         8\n",
       "10.0        6\n",
       "12.0        3\n",
       "11.0        1\n",
       "30.0        1\n",
       "14.0        1\n",
       "Name: count, dtype: int64"
      ]
     },
     "execution_count": 85,
     "metadata": {},
     "output_type": "execute_result"
    }
   ],
   "source": [
    "filhos_vivos_preenchido.value_counts() # contando a frequencia da quantidade de filhos vivos"
   ]
  },
  {
   "cell_type": "code",
   "execution_count": 86,
   "metadata": {},
   "outputs": [
    {
     "data": {
      "text/plain": [
       "Index(['ESTCIVMAE', 'ESCMAE', 'QTDFILVIVO', 'GESTACAO', 'GRAVIDEZ', 'APGAR5'], dtype='object')"
      ]
     },
     "execution_count": 86,
     "metadata": {},
     "output_type": "execute_result"
    }
   ],
   "source": [
    "# 7) seu código aqui\n",
    "colunas_com_soma_maior_que_0.columns # mostrando as colunas com dados faltantes"
   ]
  },
  {
   "cell_type": "code",
   "execution_count": 87,
   "metadata": {},
   "outputs": [
    {
     "data": {
      "text/plain": [
       "GRAVIDEZ\n",
       "Única              26452\n",
       "Dupla                492\n",
       "Tríplice e mais        5\n",
       "Name: count, dtype: int64"
      ]
     },
     "execution_count": 87,
     "metadata": {},
     "output_type": "execute_result"
    }
   ],
   "source": [
    "df['GRAVIDEZ'].value_counts()"
   ]
  },
  {
   "cell_type": "code",
   "execution_count": 88,
   "metadata": {},
   "outputs": [
    {
     "name": "stdout",
     "output_type": "stream",
     "text": [
      "79\n"
     ]
    }
   ],
   "source": [
    "print(df['GRAVIDEZ'].isna().sum()) # verificando a quantidade de dados faltantes na coluna Gravidez"
   ]
  },
  {
   "cell_type": "code",
   "execution_count": 89,
   "metadata": {},
   "outputs": [
    {
     "data": {
      "text/plain": [
       "GRAVIDEZ\n",
       "Única              26452\n",
       "Dupla                492\n",
       "Tríplice e mais        5\n",
       "Name: count, dtype: int64"
      ]
     },
     "execution_count": 89,
     "metadata": {},
     "output_type": "execute_result"
    }
   ],
   "source": [
    "gravidez_limpa = df['GRAVIDEZ'].dropna()\n",
    "gravidez_limpa.value_counts()"
   ]
  },
  {
   "cell_type": "code",
   "execution_count": 90,
   "metadata": {},
   "outputs": [
    {
     "data": {
      "text/plain": [
       "ESTCIVMAE\n",
       "2.0    9924\n",
       "1.0    8952\n",
       "5.0    7180\n",
       "4.0     453\n",
       "3.0      57\n",
       "Name: count, dtype: int64"
      ]
     },
     "execution_count": 90,
     "metadata": {},
     "output_type": "execute_result"
    }
   ],
   "source": [
    "df_estado_civil_limpo = df.loc[(df['ESTCIVMAE'] != 9) & (df['ESTCIVMAE'].notna())] # retirando os valores nulos e iguais a 9\n",
    "df_estado_civil_limpo['ESTCIVMAE'].value_counts()"
   ]
  },
  {
   "cell_type": "code",
   "execution_count": 91,
   "metadata": {},
   "outputs": [
    {
     "data": {
      "text/plain": [
       "APGAR5\n",
       "3.0        15\n",
       "0.0        17\n",
       "2.0        18\n",
       "4.0        23\n",
       "1.0        24\n",
       "5.0        45\n",
       "6.0        79\n",
       "7.0       241\n",
       "8.0      1994\n",
       "10.0     8393\n",
       "9.0     16076\n",
       "Name: count, dtype: int64"
      ]
     },
     "execution_count": 91,
     "metadata": {},
     "output_type": "execute_result"
    }
   ],
   "source": [
    "# 8) seu código aqui\n",
    "df['APGAR5'].value_counts().sort_values() # verificando os dados"
   ]
  },
  {
   "cell_type": "code",
   "execution_count": 92,
   "metadata": {},
   "outputs": [],
   "source": [
    "df.loc[df['APGAR5'] >= 8, 'apgar5_novo'] = 'Normal'\n",
    "df.loc[(df['APGAR5'] >=6) & (df['APGAR5'] <= 7),\n",
    "           'apgar5_novo'] = 'Asfixia Leve'\n",
    "df.loc[(df['APGAR5'] >= 4) & (df['APGAR5'] <= 5),\n",
    "           'apgar5_novo'] = 'Asfixia Moderada'\n",
    "df.loc[(df['APGAR5'] <= 3), 'apgar5_novo'] = 'Asfixia Severa'"
   ]
  },
  {
   "cell_type": "code",
   "execution_count": 93,
   "metadata": {},
   "outputs": [
    {
     "data": {
      "text/plain": [
       "apgar5_novo\n",
       "Normal              26463\n",
       "Asfixia Leve          320\n",
       "Asfixia Severa         74\n",
       "Asfixia Moderada       68\n",
       "Name: count, dtype: int64"
      ]
     },
     "execution_count": 93,
     "metadata": {},
     "output_type": "execute_result"
    }
   ],
   "source": [
    "df['apgar5_novo'].value_counts() # mostrando a frequência"
   ]
  },
  {
   "cell_type": "code",
   "execution_count": 98,
   "metadata": {},
   "outputs": [],
   "source": [
    "# 9) seu código aqui\n",
    "df['apgar5_novo'] = df['apgar5_novo'].str.replace(' ', '_').str.lower() # transformando os valores em snake case"
   ]
  },
  {
   "cell_type": "code",
   "execution_count": 99,
   "metadata": {},
   "outputs": [
    {
     "data": {
      "text/plain": [
       "apgar5_novo\n",
       "normal              26463\n",
       "asfixia_leve          320\n",
       "asfixia_severa         74\n",
       "asfixia_moderada       68\n",
       "Name: count, dtype: int64"
      ]
     },
     "execution_count": 99,
     "metadata": {},
     "output_type": "execute_result"
    }
   ],
   "source": [
    "df['apgar5_novo'].value_counts() # mostrando a frequencia"
   ]
  }
 ],
 "metadata": {
  "kernelspec": {
   "display_name": "Python 3",
   "language": "python",
   "name": "python3"
  },
  "language_info": {
   "codemirror_mode": {
    "name": "ipython",
    "version": 3
   },
   "file_extension": ".py",
   "mimetype": "text/x-python",
   "name": "python",
   "nbconvert_exporter": "python",
   "pygments_lexer": "ipython3",
   "version": "3.12.4"
  }
 },
 "nbformat": 4,
 "nbformat_minor": 4
}
